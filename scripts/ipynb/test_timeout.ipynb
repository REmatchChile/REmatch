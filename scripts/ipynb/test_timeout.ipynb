{
  "cells": [
    {
      "cell_type": "code",
      "execution_count": 16,
      "metadata": {},
      "outputs": [
        {
          "name": "stdout",
          "output_type": "stream",
          "text": ["Output: END\n", "\n"]
        }
      ],
      "source": [
        "import subprocess\n",
        "import signal\n",
        "import os\n",
        "\n",
        "cmd = [\"/usr/bin/time\", \"-f\", \"\\\"%M\\\"\", \"sleep\",  \"6\", \"&&\", \"echo\", \"END\"]\n",
        "\n",
        "try:\n",
        "  process = subprocess.Popen(' '.join(cmd), start_new_session=True, shell=True,\n",
        "                            text=True, stdout=subprocess.PIPE, stderr=subprocess.PIPE)\n",
        "  outs, errs = process.communicate(timeout=10)\n",
        "  print (f\"Output: {outs}\")\n",
        "except subprocess.TimeoutExpired:\n",
        "  print(\"Timeout!\")\n",
        "  os.killpg(os.getpgid(process.pid), signal.SIGTERM)"
      ]
    }, {
      "cell_type": "code",
      "execution_count": null,
      "metadata": {},
      "outputs": [],
      "source": []
    }
  ],
  "metadata": {
    "interpreter": {
      "hash": "e7370f93d1d0cde622a1f8e1c04877d8463912d04d973331ad4851f04de6915a"
    },
    "kernelspec": {
      "display_name": "Python 3.10.4 64-bit",
      "language": "python",
      "name": "python3"
    },
    "language_info": {
      "codemirror_mode": {
        "name": "ipython",
        "version": 3
      },
      "file_extension": ".py",
      "mimetype": "text/x-python",
      "name": "python",
      "nbconvert_exporter": "python",
      "pygments_lexer": "ipython3",
      "version": "3.10.4"
    },
    "orig_nbformat": 4
  },
  "nbformat": 4,
  "nbformat_minor": 2
}
