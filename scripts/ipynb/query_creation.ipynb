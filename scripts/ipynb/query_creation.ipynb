{
 "cells": [
  {
   "cell_type": "code",
   "execution_count": 1,
   "metadata": {},
   "outputs": [],
   "source": [
    "import os\n",
    "import os.path\n",
    "\n",
    "PROJECT_DIR = '/home/nicovsj/repos/research/REmatch-org/REmatch'\n",
    "ENGLISH = os.path.join(PROJECT_DIR, 'datasets/english-works/english-authors.txt')\n",
    "SPARQL = os.path.join(PROJECT_DIR, 'datasets/RKBExplorer/sparql.log.1')"
   ]
  },
  {
   "cell_type": "markdown",
   "metadata": {},
   "source": [
    "A function to return a list of line-separated regexes defined in a file."
   ]
  },
  {
   "cell_type": "code",
   "execution_count": 2,
   "metadata": {},
   "outputs": [],
   "source": [
    "def get_regexes(path):\n",
    "  regexps = []\n",
    "  with open(path) as fp:\n",
    "    for line in fp:\n",
    "      regexps.append(line.strip())\n",
    "  return regexps"
   ]
  },
  {
   "cell_type": "markdown",
   "metadata": {},
   "source": [
    "Now, get every morpheme defined in the datasets directory"
   ]
  },
  {
   "cell_type": "code",
   "execution_count": 42,
   "metadata": {},
   "outputs": [],
   "source": [
    "suff = get_regexes(os.path.join(PROJECT_DIR, 'datasets/morphemes/suff.txt'))\n",
    "pref = get_regexes(os.path.join(PROJECT_DIR, 'datasets/morphemes/pref.txt'))\n",
    "greek = get_regexes(os.path.join(PROJECT_DIR, 'datasets/morphemes/greek.txt'))\n",
    "latin = get_regexes(os.path.join(PROJECT_DIR, 'datasets/morphemes/latin.txt'))"
   ]
  },
  {
   "cell_type": "code",
   "execution_count": 43,
   "metadata": {},
   "outputs": [],
   "source": [
    "regexps = dict()\n",
    "\n",
    "regexps['suff'] = map(lambda w: {'rem': f'\\W!x{{\\w+{w}}}\\W', 'perl': f'\\W(\\w+{w})\\W'}, suff)\n",
    "regexps['pref'] = map(lambda w: {'rem': f'\\W!x{{{w}\\w+}}\\W', 'perl': f'\\W({w}\\w+)\\W'}, pref)\n",
    "regexps['greek'] = map(lambda w: {'rem': f'\\W!x{{\\w+{w}\\w+}}\\W', 'perl': f'\\W(\\w+{w}\\w+)\\W'}, greek)\n",
    "regexps['latin'] = map(lambda w: {'rem': f'\\W!x{{\\w+{w}\\w+}}\\W', 'perl': f'\\W(\\w+{w}\\w+)\\W'}, latin)"
   ]
  },
  {
   "cell_type": "code",
   "execution_count": 44,
   "metadata": {},
   "outputs": [],
   "source": [
    "for key, value in regexps.items():\n",
    "  categ_path = os.path.join(PROJECT_DIR, f'exp/morphemes/{key}')\n",
    "  os.makedirs(categ_path, exist_ok=True)\n",
    "  for i, rgxs in enumerate(value):\n",
    "    exp_path = os.path.join(categ_path, f'exp{i:02}')\n",
    "    os.makedirs(exp_path, exist_ok=True)\n",
    "    if(os.path.exists(os.path.join(exp_path, 'doc.txt'))):\n",
    "      os.remove(os.path.join(exp_path, 'doc.txt'))\n",
    "    os.symlink(ENGLISH, os.path.join(exp_path, 'doc.txt'))\n",
    "    with open(os.path.join(exp_path, 'rematch.rgx'), 'w') as fp:\n",
    "      fp.write(rgxs['rem'])\n",
    "    with open(os.path.join(exp_path, 'perl.rgx'), 'w') as fp:\n",
    "      fp.write(rgxs['perl'])\n",
    "    with open(os.path.join(exp_path, 'boost.rgx'), 'w') as fp:\n",
    "      fp.write(rgxs['perl'])"
   ]
  },
  {
   "cell_type": "code",
   "execution_count": 4,
   "metadata": {},
   "outputs": [],
   "source": [
    "ops = get_regexes(os.path.join(PROJECT_DIR, 'datasets/sparql/operators.txt'))"
   ]
  },
  {
   "cell_type": "code",
   "execution_count": 5,
   "metadata": {},
   "outputs": [],
   "source": [
    "tot_ops = dict()\n",
    "tot_ops['single'] = []\n",
    "for op in ops:\n",
    "  tot_ops['single'].append({'rem': f'\\\\n!x{{[^\\\\n]* {op} [^\\\\n]*}}\\\\n',\n",
    "                              'perl': f'^([^\\\\n]* {op} [^\\\\n]*)$'})\n",
    "tot_ops['double'] = []\n",
    "\n",
    "double_ops = (('OPTIONAL',  'OPTIONAL'),\n",
    "              ('OPTIONAL',  'FILTER'),\n",
    "              ('OPTIONAL',  'LIMIT'),\n",
    "              ('OPTIONAL',  'ASK'),\n",
    "              ('CONSTRUCT', 'AS'),\n",
    "              ('CONSTUCT',  'GROUP BY'),\n",
    "              ('OPTIONAL',  'GROUP BY'),\n",
    "              ('AS',        'FILTER'),\n",
    "              ('AS',        'WHERE'),\n",
    "              ('OPTIONAL',  'ORDER BY'),\n",
    "              ('AS',        'SELECT'),\n",
    "              ('AS',        'LIMIT'),\n",
    "              ('AS',        'AS'),\n",
    "              ('AS',        'GROUP BY'),\n",
    "              ('AS',        'ORDER BY'),\n",
    "              ('FILTER',    'FILTER'),\n",
    "              ('GROUP BY',  'LIMIT'),\n",
    "              ('GROUP BY',  'ORDER BY'),\n",
    "              ('ORDER BY',  'LIMIT'),\n",
    "              ('FILTER',    'LIMIT'),\n",
    "              ('FILTER',    'GROUP BY'),\n",
    "              ('WHERE',     'OPTIONAL'),\n",
    "              ('WHERE',     'FILTER'),\n",
    "              ('WHERE',     'WHERE'),\n",
    "              ('WHERE',     'SELECT'),\n",
    "              ('WHERE',     'LIMIT'),\n",
    "              ('WHERE',     'AS'),\n",
    "              ('WHERE',     'GROUP BY'),\n",
    "              ('WHERE',     'ORDER BY'),\n",
    "              ('PREFIX',    'OPTIONAL'),\n",
    "              ('PREFIX',    'FILTER'),\n",
    "              ('PREFIX',    'WHERE'),\n",
    "              ('PREFIX',    'PREFIX'),\n",
    "              ('PREFIX',    'SELECT'),\n",
    "              ('PREFIX',    'DISTICT'),\n",
    "              ('PREFIX',    'LIMIT'),\n",
    "              ('PREFIX',    'CONSTRUCT'),\n",
    "              ('PREFIX',    'AS'),\n",
    "              ('PREFIX',    'GROUP BY'),\n",
    "              ('PREFIX',    'ORDER BY'),\n",
    "              ('SELECT',    'OPTIONAL'),\n",
    "              ('SELECT',    'FILTER'),\n",
    "              ('SELECT',    'WHERE'),\n",
    "              ('SELECT',    'SELECT'),\n",
    "              ('SELECT',    'LIMIT'),\n",
    "              ('SELECT',    'AS'),\n",
    "              ('SELECT',    'GROUP BY'),\n",
    "              ('SELECT',    'ORDER BY'),\n",
    "              ('DISTINCT',  'OPTIONAL'),\n",
    "              ('DISTINCT',  'FILTER'),\n",
    "              ('DISTINCT',  'WHERE'),\n",
    "              ('DISTINCT',   'LIMIT'),\n",
    "              ('DISTINCT',  'GROUP BY'),\n",
    "              ('DISTICT',   'ORDER BY'),\n",
    "              ('CONSTRUCT', 'OPTIONAL'),\n",
    "              ('CONSTRUCT', 'FILTER'),\n",
    "              ('CONSTRUCT', 'WHERE'),\n",
    "              ('CONSTRUCT', 'SELECT'),\n",
    "              ('CONSTRUCT', 'LIMIT')\n",
    "              )\n",
    "\n",
    "for op1, op2 in double_ops:\n",
    "  tot_ops['double'].append({'rem': f'\\\\n!x{{[^\\\\n]* {op1} [^\\\\n]* {op2} [^\\\\n]*}}\\\\n',\n",
    "                            'perl': f'^([^\\\\n]* {op1} [^\\\\n]* {op2} [^\\\\n]*)$'})\n"
   ]
  },
  {
   "cell_type": "code",
   "execution_count": 6,
   "metadata": {},
   "outputs": [],
   "source": [
    "for key, value in tot_ops.items():\n",
    "  categ_path = os.path.join(PROJECT_DIR, f'exp/sparql/{key}')\n",
    "  os.makedirs(categ_path, exist_ok=True)\n",
    "  for i, rgxs in enumerate(value):\n",
    "    exp_path = os.path.join(categ_path, f'exp{i:02}')\n",
    "    os.makedirs(exp_path, exist_ok=True)\n",
    "    if(os.path.exists(os.path.join(exp_path, 'doc.txt'))):\n",
    "      os.remove(os.path.join(exp_path, 'doc.txt'))\n",
    "    os.symlink(SPARQL, os.path.join(exp_path, 'doc.txt'))\n",
    "    with open(os.path.join(exp_path, 'rematch.rgx'), 'w') as fp:\n",
    "      fp.write(rgxs['rem'])\n",
    "    with open(os.path.join(exp_path, 'perl.rgx'), 'w') as fp:\n",
    "      fp.write('(?m)' + rgxs['perl'])\n",
    "    with open(os.path.join(exp_path, 'boost.rgx'), 'w') as fp:\n",
    "      fp.write(rgxs['perl'])"
   ]
  },
  {
   "cell_type": "code",
   "execution_count": null,
   "metadata": {},
   "outputs": [],
   "source": []
  }
 ],
 "metadata": {
  "interpreter": {
   "hash": "e7370f93d1d0cde622a1f8e1c04877d8463912d04d973331ad4851f04de6915a"
  },
  "kernelspec": {
   "display_name": "Python 3.10.4 64-bit",
   "language": "python",
   "name": "python3"
  },
  "language_info": {
   "codemirror_mode": {
    "name": "ipython",
    "version": 3
   },
   "file_extension": ".py",
   "mimetype": "text/x-python",
   "name": "python",
   "nbconvert_exporter": "python",
   "pygments_lexer": "ipython3",
   "version": "3.10.4"
  },
  "orig_nbformat": 4
 },
 "nbformat": 4,
 "nbformat_minor": 2
}
