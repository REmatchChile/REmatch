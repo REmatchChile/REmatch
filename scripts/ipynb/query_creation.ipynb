{
 "cells": [
  {
   "cell_type": "code",
   "execution_count": 21,
   "metadata": {},
   "outputs": [],
   "source": [
    "import os\n",
    "import os.path\n",
    "\n",
    "PROJECT_DIR = '/home/nicovsj/repos/research/REmatch-org/REmatch'\n"
   ]
  },
  {
   "cell_type": "markdown",
   "metadata": {},
   "source": [
    "A function to return a list of line-separated regexes defined in a file."
   ]
  },
  {
   "cell_type": "code",
   "execution_count": 18,
   "metadata": {},
   "outputs": [],
   "source": [
    "def get_regexes(path):\n",
    "  regexps = []\n",
    "  with open(path) as fp:\n",
    "    for line in fp:\n",
    "      regexps.append(line.strip())\n",
    "  return regexps"
   ]
  },
  {
   "cell_type": "markdown",
   "metadata": {},
   "source": [
    "Now, get every morpheme defined in the datasets directory"
   ]
  },
  {
   "cell_type": "code",
   "execution_count": 22,
   "metadata": {},
   "outputs": [],
   "source": [
    "suff = get_regexes(os.path.join(PROJECT_DIR, 'datasets/morphemes/suff.txt'))\n",
    "pref = get_regexes(os.path.join(PROJECT_DIR, 'datasets/morphemes/pref.txt'))\n",
    "greek = get_regexes(os.path.join(PROJECT_DIR, 'datasets/morphemes/greek.txt'))\n",
    "latin = get_regexes(os.path.join(PROJECT_DIR, 'datasets/morphemes/latin.txt'))"
   ]
  },
  {
   "cell_type": "code",
   "execution_count": 24,
   "metadata": {},
   "outputs": [],
   "source": [
    "regexps = dict()\n",
    "\n",
    "regexps['suff'] = map(lambda w: {'rem': f'\\W!x{{\\w+{w}}}\\W', 'perl': f'\\W(\\w+{w})\\W'}, suff)\n",
    "regexps['pref'] = map(lambda w: {'rem': f'\\W!x{{{w}\\w+}}\\W', 'perl': f'\\W({w}\\w+)\\W'}, pref)\n",
    "regexps['greek'] = map(lambda w: {'rem': f'\\W!x{{\\w+{w}\\w+}}\\W', 'perl': f'\\W(\\w+{w}\\w+)\\W'}, greek)\n",
    "regexps['latin'] = map(lambda w: {'rem': f'\\W!x{{\\w+{w}\\w+}}\\W', 'perl': f'\\W(\\w+{w}\\w+)\\W'}, latin)"
   ]
  },
  {
   "cell_type": "code",
   "execution_count": 29,
   "metadata": {},
   "outputs": [],
   "source": [
    "\n",
    "for key, value in regexps.items():\n",
    "  categ_path = os.path.join(PROJECT_DIR, f'exp/morphemes/{key}')\n",
    "  os.makedirs(categ_path, exist_ok=True)\n",
    "  for i, rgxs in enumerate(value):\n",
    "    exp_path = os.path.join(categ_path, f'exp{i:02}')\n",
    "    os.makedirs(exp_path, exist_ok=True)\n",
    "    with open(os.path.join(exp_path, 'rematch.rgx'), 'w') as fp:\n",
    "      fp.write(rgxs['rem'])\n",
    "    with open(os.path.join(exp_path, 'perl.rgx'), 'w') as fp:\n",
    "      fp.write(rgxs['perl'])"
   ]
  },
  {
   "cell_type": "code",
   "execution_count": null,
   "metadata": {},
   "outputs": [],
   "source": []
  }
 ],
 "metadata": {
  "interpreter": {
   "hash": "e7370f93d1d0cde622a1f8e1c04877d8463912d04d973331ad4851f04de6915a"
  },
  "kernelspec": {
   "display_name": "Python 3.10.4 64-bit",
   "language": "python",
   "name": "python3"
  },
  "language_info": {
   "codemirror_mode": {
    "name": "ipython",
    "version": 3
   },
   "file_extension": ".py",
   "mimetype": "text/x-python",
   "name": "python",
   "nbconvert_exporter": "python",
   "pygments_lexer": "ipython3",
   "version": "3.10.4"
  },
  "orig_nbformat": 4
 },
 "nbformat": 4,
 "nbformat_minor": 2
}
