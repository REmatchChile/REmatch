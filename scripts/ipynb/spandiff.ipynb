{
  "cells": [
    {
      "cell_type": "code",
      "execution_count": 42,
      "metadata": {},
      "outputs": [],
      "source": ["import re\n", "import bisect\n", "\n", "pattern = re.compile(\"\\|(\\d+),(\\d+)>\")\n"]
    },
    {
      "cell_type": "code",
      "execution_count": 43,
      "metadata": {},
      "outputs": [],
      "source": [
        "re2_tuples = set()\n",
        "with open(\"../../logs/re2_force_all.log\") as flog:\n",
        "  for line in flog:\n",
        "    match = pattern.search(line)\n",
        "    re2_tuples.add((int(match[1]), int(match[2])))"
      ]
    },
    {
      "cell_type": "code",
      "execution_count": 44,
      "metadata": {},
      "outputs": [],
      "source": [
        "rematch_tuples = set()\n",
        "with open(\"../../logs/rematch_output.log\") as flog:\n",
        "  for line in flog:\n",
        "    match = pattern.search(line)\n",
        "    rematch_tuples.add((int(match[1]), int(match[2])))"
      ]
    },
    {
      "cell_type": "code",
      "execution_count": 45,
      "metadata": {},
      "outputs": [
        {
          "name": "stdout",
          "output_type": "stream",
          "text": ["set()\n"]
        }
      ],
      "source": ["diff = rematch_tuples.difference(re2_tuples)\n", "\n", "print(diff)"]
    }, {
      "cell_type": "code",
      "execution_count": null,
      "metadata": {},
      "outputs": [],
      "source": []
    }
  ],
  "metadata": {
    "interpreter": {
      "hash": "e7370f93d1d0cde622a1f8e1c04877d8463912d04d973331ad4851f04de6915a"
    },
    "kernelspec": {
      "display_name": "Python 3.10.4 64-bit",
      "language": "python",
      "name": "python3"
    },
    "language_info": {
      "codemirror_mode": {
        "name": "ipython",
        "version": 3
      },
      "file_extension": ".py",
      "mimetype": "text/x-python",
      "name": "python",
      "nbconvert_exporter": "python",
      "pygments_lexer": "ipython3",
      "version": "3.10.4"
    },
    "orig_nbformat": 4
  },
  "nbformat": 4,
  "nbformat_minor": 2
}
