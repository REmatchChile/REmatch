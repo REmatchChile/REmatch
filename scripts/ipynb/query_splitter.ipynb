{
 "cells": [
  {
   "cell_type": "code",
   "execution_count": 1,
   "metadata": {},
   "outputs": [],
   "source": [
    "import os\n",
    "import os.path\n",
    "import re\n",
    "from typing import Tuple, Optional\n",
    "\n",
    "HERE = os.path.dirname(os.path.abspath(\"__file__\"))\n",
    "PROJECT_DIR = os.path.abspath(os.path.join(HERE, \"../..\"))"
   ]
  },
  {
   "cell_type": "code",
   "execution_count": 17,
   "metadata": {},
   "outputs": [],
   "source": [
    "DNA_SAMPLE_DIR = os.path.join(PROJECT_DIR, 'benchmark/crossings/dna/small-sample')\n",
    "DNA_OUTPUT_DIR = os.path.join(PROJECT_DIR, 'benchmark/crossings/dna/small-sample-new')"
   ]
  },
  {
   "cell_type": "code",
   "execution_count": 19,
   "metadata": {},
   "outputs": [],
   "source": [
    "def parse_regex(rgx: str) -> str:\n",
    "  res = []\n",
    "  for m in re.finditer(\"(([A-Z])|\\[(\\^)?([A-Z]+)\\]|(\\.))(?:\\{(\\d+)(?:,(\\d+))?\\})?\", rgx):\n",
    "    if m:\n",
    "      res.append((m.group(0), (m.group(1), m.group(2), (m.group(3), m.group(4)), m.group(5)), (m.group(6), m.group(7))))\n",
    "  \n",
    "  return res\n",
    "\n",
    "def atom_complement(atom, parens=True) -> str:\n",
    "  orig, root, rep = atom\n",
    "  rr, single, cc, wcard = root\n",
    "  neg, ccls = cc\n",
    "  first, second = rep\n",
    "  if single:\n",
    "    ret = f\"[^{single}]\"\n",
    "  elif ccls:\n",
    "    if neg:\n",
    "      ret = f\"[{ccls}]\"\n",
    "    else:\n",
    "      ret = f\"[^{ccls}]\"\n",
    "  else:\n",
    "    ret = \"\"\n",
    "\n",
    "  if first and not wcard:\n",
    "    comp = ret\n",
    "    for i in range(1,int(first)):\n",
    "      ret += f'|{rr*i}{comp}'\n",
    "    if parens:\n",
    "      ret = f\"(?:{ret})\"\n",
    "    else:\n",
    "      ret = f\"({ret})\"\n",
    "    \n",
    "\n",
    "\n",
    "  return ret\n",
    "\n",
    "def complement(rgx: str, parens=True) -> str:\n",
    "  ret = []\n",
    "  last = \"\"\n",
    "  for e in parse_regex(rgx):\n",
    "    atom, root, rep = e\n",
    "    if not root[3]: \n",
    "      comp = atom_complement(e, parens)\n",
    "      ret.append(f\"{last}{comp}\")\n",
    "    last += atom\n",
    "  return \"|\".join(ret)"
   ]
  },
  {
   "cell_type": "code",
   "execution_count": 20,
   "metadata": {},
   "outputs": [],
   "source": [
    "def parse_perl(rgx: str) -> str:\n",
    "  pass\n",
    "\n",
    "def parse_rematch(rgx: str) -> str:\n",
    "  m1 = re.fullmatch(\"!x\\{(.+)\\}\", rgx)\n",
    "  if m1:\n",
    "    non_capturing_regex = m1.group(1)\n",
    "    m2 = re.fullmatch(\"(.+)\\.\\{0,100\\}(.+)\", non_capturing_regex)\n",
    "    if m2:\n",
    "      return f\"!x{{{m2.group(1)}({complement(m2.group(2), False)})*{m2.group(2)}}}\"\n",
    "      # print(complement(m2.group(2)))"
   ]
  },
  {
   "cell_type": "code",
   "execution_count": 26,
   "metadata": {},
   "outputs": [],
   "source": [
    "for root, dirs, files in os.walk(DNA_SAMPLE_DIR):\n",
    "  for i, f in enumerate(files):\n",
    "    if f in [\"perl.rgx\", \"boost.rgx\"]:\n",
    "      with open(os.path.join(root, f)) as fp:\n",
    "        res = parse_perl(fp.read())\n",
    "    elif f == \"rematch.rgx\":\n",
    "      with open(os.path.join(root, f)) as fp:\n",
    "        rgx = fp.read()\n",
    "        if '?' not in rgx:\n",
    "          os.makedirs(os.path.join(DNA_OUTPUT_DIR, f\"exp{i:03}\"), exist_ok=True)\n",
    "          with open(os.path.join(DNA_OUTPUT_DIR, f\"exp{i:03}/rematch.rgx\"), 'w') as wp:\n",
    "            wp.write(parse_rematch(rgx))"
   ]
  },
  {
   "cell_type": "code",
   "execution_count": null,
   "metadata": {},
   "outputs": [],
   "source": []
  }
 ],
 "metadata": {
  "kernelspec": {
   "display_name": "Python 3",
   "language": "python",
   "name": "python3"
  },
  "language_info": {
   "codemirror_mode": {
    "name": "ipython",
    "version": 3
   },
   "file_extension": ".py",
   "mimetype": "text/x-python",
   "name": "python",
   "nbconvert_exporter": "python",
   "pygments_lexer": "ipython3",
   "version": "3.10.8"
  },
  "vscode": {
   "interpreter": {
    "hash": "e7370f93d1d0cde622a1f8e1c04877d8463912d04d973331ad4851f04de6915a"
   }
  }
 },
 "nbformat": 4,
 "nbformat_minor": 4
}
